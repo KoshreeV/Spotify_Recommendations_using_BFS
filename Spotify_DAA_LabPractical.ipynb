{
  "nbformat": 4,
  "nbformat_minor": 0,
  "metadata": {
    "colab": {
      "provenance": []
    },
    "kernelspec": {
      "name": "python3",
      "display_name": "Python 3"
    },
    "language_info": {
      "name": "python"
    }
  },
  "cells": [
    {
      "cell_type": "code",
      "source": [
        "from google.colab import drive\n",
        "drive.mount('/content/drive')\n"
      ],
      "metadata": {
        "colab": {
          "base_uri": "https://localhost:8080/"
        },
        "id": "orlFSEGKMObj",
        "outputId": "368bbbe7-20a8-4c4e-fb28-bfd9c6af7d80"
      },
      "execution_count": null,
      "outputs": [
        {
          "output_type": "stream",
          "name": "stdout",
          "text": [
            "Drive already mounted at /content/drive; to attempt to forcibly remount, call drive.mount(\"/content/drive\", force_remount=True).\n"
          ]
        }
      ]
    },
    {
      "cell_type": "code",
      "execution_count": null,
      "metadata": {
        "id": "O_wH7ku1Lf37"
      },
      "outputs": [],
      "source": [
        "import pandas as pd\n",
        "\n"
      ]
    },
    {
      "cell_type": "code",
      "source": [
        "path=\"/content/drive/MyDrive/daa dataset/Spotify interactions.csv\"\n",
        "df=pd.read_csv(path)\n"
      ],
      "metadata": {
        "id": "jiFiCX5zMNlu"
      },
      "execution_count": null,
      "outputs": []
    },
    {
      "cell_type": "code",
      "source": [
        "\n",
        "import pandas as pd\n",
        "from collections import defaultdict, deque\n",
        "import csv\n",
        "\n",
        "path = \"/content/drive/MyDrive/daa dataset/Spotify interactions.csv\"\n",
        "df = pd.read_csv(path)\n",
        "\n",
        "print(\"DataFrame Head:\")\n",
        "print(df.head())\n",
        "print(\"\\nUnique Users:\")\n",
        "print(df['User Name'].unique())\n",
        "print(\"\\nUnique Songs:\")\n",
        "print(df['Song Title'].unique())\n",
        "\n",
        "# Building adjacency list\n",
        "def build_graph(df):\n",
        "    graph = defaultdict(list)\n",
        "    for index, row in df.iterrows():\n",
        "        user = row['User Name']\n",
        "        song = row['Song Title']\n",
        "        # undirected graph\n",
        "        graph[user].append(song)\n",
        "        graph[song].append(user)\n",
        "    return graph\n",
        "\n",
        "#  BFS to find recommendations and hops\n",
        "def bfs_recommendations(graph, start_user):\n",
        "    visited = set()\n",
        "    queue = deque([(start_user, 0)])\n",
        "    recommendations = defaultdict(list)\n",
        "\n",
        "    while queue:\n",
        "        node, hops = queue.popleft()\n",
        "        if node not in visited:\n",
        "            visited.add(node)\n",
        "\n",
        "            # current node is a song\n",
        "            if node != start_user and node in df['Song Title'].values:\n",
        "                recommendations[hops].append(node)  # Group songs by hop count\n",
        "\n",
        "            #  neighbors with inc hop count\n",
        "            for neighbor in graph[node]:\n",
        "                if neighbor not in visited:\n",
        "                    queue.append((neighbor, hops + 1))\n",
        "\n",
        "    #  dictionary to a list of tuples\n",
        "    recommendations_list = [(start_user, hops, \", \".join(songs)) for hops, songs in recommendations.items()]\n",
        "    return recommendations_list\n",
        "\n",
        "# Save to a CSV file\n",
        "def save_recommendations_to_csv(all_recommendations, output_file):\n",
        "    with open(output_file, 'w', newline='') as file:\n",
        "        writer = csv.writer(file)\n",
        "        writer.writerow(['User Name', 'Hops', 'Recommended Songs'])\n",
        "        for recommendation in all_recommendations:\n",
        "            writer.writerows(recommendation)\n",
        "\n",
        "# Main function\n",
        "if __name__ == \"__main__\":\n",
        "\n",
        "    graph = build_graph(df)\n",
        "    unique_users = df['User Name'].unique()\n",
        "    all_recommendations = []\n",
        "\n",
        "    #  for each user\n",
        "    for user in unique_users:\n",
        "        user_recommendations = bfs_recommendations(graph, user)\n",
        "        all_recommendations.append(user_recommendations)\n",
        "\n",
        "    output_file_path = '/content/drive/MyDrive/daa dataset/comprise.csv'\n",
        "    save_recommendations_to_csv(all_recommendations, output_file_path)\n",
        "\n",
        "    print(f\"Recommendations saved to: {output_file_path}\")\n"
      ],
      "metadata": {
        "id": "krgXI-1FNLA9",
        "colab": {
          "base_uri": "https://localhost:8080/"
        },
        "outputId": "e49968f5-c636-4616-b0e2-ffb3f8ea94d5"
      },
      "execution_count": null,
      "outputs": [
        {
          "output_type": "stream",
          "name": "stdout",
          "text": [
            "DataFrame Head:\n",
            "  User Name           Song Title\n",
            "0      Judy                Sorry\n",
            "1    Faythe  Rolling in the Deep\n",
            "2     Sybil             Señorita\n",
            "3      Ivan             Rockstar\n",
            "4    Quincy          Blank Space\n",
            "\n",
            "Unique Users:\n",
            "['Judy' 'Faythe' 'Sybil' 'Ivan' 'Quincy' 'Ruth' 'Peggy' 'Grace' 'Eve'\n",
            " 'Heidi' 'Leo' 'Trent' 'David' 'Alice' 'Mallory' 'Bob' 'Niaj' 'Kathy'\n",
            " 'Olivia' 'Charlie']\n",
            "\n",
            "Unique Songs:\n",
            "['Sorry' 'Rolling in the Deep' 'Señorita' 'Rockstar' 'Blank Space'\n",
            " 'Royals' 'Without Me' 'Love Me Like You Do' 'Stitches' 'Despacito'\n",
            " 'Dance Monkey' 'Let Her Go' 'Someone Like You' 'Bad Guy' 'Hello'\n",
            " 'All of Me' 'One Kiss' 'Shape of You' 'Sugar' 'Believer' 'Lose Yourself'\n",
            " 'Cheap Thrills' 'Counting Stars' 'Perfect' 'Thinking Out Loud'\n",
            " 'Blinding Lights' 'Havana' 'Closer' 'Faded' 'Memories']\n",
            "Recommendations saved to: /content/drive/MyDrive/daa dataset/comprise.csv\n"
          ]
        }
      ]
    },
    {
      "cell_type": "code",
      "source": [],
      "metadata": {
        "id": "pJQwN2qyqtEA"
      },
      "execution_count": null,
      "outputs": []
    }
  ]
}